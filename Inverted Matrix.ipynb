{
 "cells": [
  {
   "cell_type": "code",
   "execution_count": 1,
   "id": "936c1c3c-a3ea-4f6b-b7f3-e36a777ebf29",
   "metadata": {},
   "outputs": [],
   "source": [
    "import os"
   ]
  },
  {
   "cell_type": "code",
   "execution_count": 2,
   "id": "7213ffab-072e-43c3-b7d2-9e9f22890e1d",
   "metadata": {},
   "outputs": [],
   "source": [
    "def create_inverted_index(directory):\n",
    "    inverted_index = {}\n",
    "\n",
    "    for filename in os.listdir(directory):\n",
    "        file_path = os.path.join(directory, filename)\n",
    "        if os.path.isfile(file_path) and filename.endswith('.txt'):\n",
    "            with open(file_path, 'r', encoding='utf-8') as file:\n",
    "                content = file.read()\n",
    "                words = content.split()\n",
    "\n",
    "                for word in words:\n",
    "                    if word not in inverted_index:\n",
    "                        inverted_index[word] = []\n",
    "                    if filename not in inverted_index[word]:\n",
    "                        inverted_index[word].append(filename)\n",
    "\n",
    "    return inverted_index"
   ]
  },
  {
   "cell_type": "code",
   "execution_count": 3,
   "id": "8ddd0309-e1bd-4b82-9bcf-31fd0d409848",
   "metadata": {},
   "outputs": [
    {
     "name": "stdin",
     "output_type": "stream",
     "text": [
      "Enter the path to the directory containing text files:  TM\n"
     ]
    }
   ],
   "source": [
    "directory = input(\"Enter the path to the directory containing text files: \")\n",
    "inverted_index = create_inverted_index(directory)"
   ]
  },
  {
   "cell_type": "code",
   "execution_count": 4,
   "id": "a859a970-bd26-40b6-8a8a-4ec8b04646d1",
   "metadata": {},
   "outputs": [
    {
     "data": {
      "text/plain": [
       "{'hence': ['end.txt'],\n",
       " 'cellular': ['end.txt'],\n",
       " 'orgainisation': ['end.txt'],\n",
       " 'of': ['end.txt', 'Intro.txt', 'lo.txt'],\n",
       " 'the': ['end.txt'],\n",
       " 'body': ['end.txt'],\n",
       " 'is': ['end.txt', 'Intro.txt', 'lo.txt'],\n",
       " 'defining': ['end.txt'],\n",
       " 'feature': ['end.txt'],\n",
       " 'life': ['end.txt'],\n",
       " 'form': ['end.txt'],\n",
       " 'conciseness': ['end.txt'],\n",
       " 'therefore': ['end.txt'],\n",
       " 'become': ['end.txt'],\n",
       " 'property': ['end.txt'],\n",
       " 'living': ['end.txt', 'lo.txt'],\n",
       " 'organisms': ['end.txt', 'lo.txt'],\n",
       " 'This': ['Intro.txt'],\n",
       " 'Himanshu': ['Intro.txt'],\n",
       " 'Singh': ['Intro.txt'],\n",
       " 'I': ['Intro.txt'],\n",
       " 'am': ['Intro.txt'],\n",
       " 'a': ['Intro.txt', 'lo.txt'],\n",
       " 'post': ['Intro.txt'],\n",
       " 'graduate': ['Intro.txt'],\n",
       " 'Computer': ['Intro.txt'],\n",
       " 'Science': ['Intro.txt'],\n",
       " 'who': ['Intro.txt'],\n",
       " 'studies': ['Intro.txt'],\n",
       " 'in': ['Intro.txt', 'lo.txt'],\n",
       " 'Banaras': ['Intro.txt'],\n",
       " 'Hindu': ['Intro.txt'],\n",
       " 'University': ['Intro.txt'],\n",
       " 'All': ['lo.txt'],\n",
       " 'organinsm': ['lo.txt'],\n",
       " 'grow': ['lo.txt'],\n",
       " 'increase': ['lo.txt'],\n",
       " 'mass': ['lo.txt'],\n",
       " 'and': ['lo.txt'],\n",
       " 'number': ['lo.txt'],\n",
       " 'individual': ['lo.txt'],\n",
       " 'are': ['lo.txt'],\n",
       " 'twin': ['lo.txt'],\n",
       " 'characterstics': ['lo.txt'],\n",
       " 'growth': ['lo.txt'],\n",
       " 'Reproduction': ['lo.txt'],\n",
       " 'likewise': ['lo.txt'],\n",
       " 'characterstic': ['lo.txt']}"
      ]
     },
     "execution_count": 4,
     "metadata": {},
     "output_type": "execute_result"
    }
   ],
   "source": [
    "inverted_index"
   ]
  },
  {
   "cell_type": "code",
   "execution_count": 5,
   "id": "41f2eb0e-0af2-4f63-b9cf-ec1c9a3b5bad",
   "metadata": {},
   "outputs": [
    {
     "name": "stdout",
     "output_type": "stream",
     "text": [
      "hence: ['end.txt']\n",
      "cellular: ['end.txt']\n",
      "orgainisation: ['end.txt']\n",
      "of: ['end.txt', 'Intro.txt', 'lo.txt']\n",
      "the: ['end.txt']\n",
      "body: ['end.txt']\n",
      "is: ['end.txt', 'Intro.txt', 'lo.txt']\n",
      "defining: ['end.txt']\n",
      "feature: ['end.txt']\n",
      "life: ['end.txt']\n",
      "form: ['end.txt']\n",
      "conciseness: ['end.txt']\n",
      "therefore: ['end.txt']\n",
      "become: ['end.txt']\n",
      "property: ['end.txt']\n",
      "living: ['end.txt', 'lo.txt']\n",
      "organisms: ['end.txt', 'lo.txt']\n",
      "This: ['Intro.txt']\n",
      "Himanshu: ['Intro.txt']\n",
      "Singh: ['Intro.txt']\n",
      "I: ['Intro.txt']\n",
      "am: ['Intro.txt']\n",
      "a: ['Intro.txt', 'lo.txt']\n",
      "post: ['Intro.txt']\n",
      "graduate: ['Intro.txt']\n",
      "Computer: ['Intro.txt']\n",
      "Science: ['Intro.txt']\n",
      "who: ['Intro.txt']\n",
      "studies: ['Intro.txt']\n",
      "in: ['Intro.txt', 'lo.txt']\n",
      "Banaras: ['Intro.txt']\n",
      "Hindu: ['Intro.txt']\n",
      "University: ['Intro.txt']\n",
      "All: ['lo.txt']\n",
      "organinsm: ['lo.txt']\n",
      "grow: ['lo.txt']\n",
      "increase: ['lo.txt']\n",
      "mass: ['lo.txt']\n",
      "and: ['lo.txt']\n",
      "number: ['lo.txt']\n",
      "individual: ['lo.txt']\n",
      "are: ['lo.txt']\n",
      "twin: ['lo.txt']\n",
      "characterstics: ['lo.txt']\n",
      "growth: ['lo.txt']\n",
      "Reproduction: ['lo.txt']\n",
      "likewise: ['lo.txt']\n",
      "characterstic: ['lo.txt']\n"
     ]
    }
   ],
   "source": [
    "for term, posting_list in inverted_index.items():\n",
    "   print(term + \": \" + str(posting_list))"
   ]
  },
  {
   "cell_type": "code",
   "execution_count": 5,
   "id": "ee00ca19-7604-4458-8268-9ac9cb63ca98",
   "metadata": {},
   "outputs": [],
   "source": [
    "def gtfn(directory):\n",
    "    files = []\n",
    "    for filename in os.listdir(directory):\n",
    "        if filename.endswith('.txt'):\n",
    "            files.append(filename)\n",
    "    return files"
   ]
  },
  {
   "cell_type": "code",
   "execution_count": 6,
   "id": "0383e8ab-0ce7-4904-9bd1-822ae887bfd3",
   "metadata": {},
   "outputs": [],
   "source": [
    "files = gtfn(directory)"
   ]
  },
  {
   "cell_type": "code",
   "execution_count": 7,
   "id": "29897e71-a2f8-48c4-97dd-fa4388ede249",
   "metadata": {},
   "outputs": [
    {
     "data": {
      "text/plain": [
       "['end.txt', 'Intro.txt', 'lo.txt']"
      ]
     },
     "execution_count": 7,
     "metadata": {},
     "output_type": "execute_result"
    }
   ],
   "source": [
    "files"
   ]
  },
  {
   "cell_type": "code",
   "execution_count": 8,
   "id": "3080ba59-74a7-417e-a6f8-5bc7c38687e4",
   "metadata": {},
   "outputs": [
    {
     "data": {
      "text/plain": [
       "['Intro.txt']"
      ]
     },
     "execution_count": 8,
     "metadata": {},
     "output_type": "execute_result"
    }
   ],
   "source": [
    "inverted_index['Himanshu']"
   ]
  },
  {
   "cell_type": "code",
   "execution_count": 9,
   "id": "94d9c71f-6768-4c41-8548-cb2fe297daf5",
   "metadata": {},
   "outputs": [],
   "source": [
    "def andlogical(x,y):\n",
    "  a = set(inverted_index[x])\n",
    "  b = set(inverted_index[y])\n",
    "  return(a & b)\n",
    "\n",
    "def orlogical(x,y):\n",
    "  a = set(inverted_index[x])\n",
    "  b = set(inverted_index[y])\n",
    "  return(a | b)\n",
    "\n",
    "def notlogical(x):\n",
    "  a = set(inverted_index[x])\n",
    "  b = set(files)\n",
    "  return(b - a)"
   ]
  },
  {
   "cell_type": "code",
   "execution_count": 11,
   "id": "f54b93c7-0b4a-4ebf-8eab-57d061c3bff8",
   "metadata": {},
   "outputs": [
    {
     "name": "stdin",
     "output_type": "stream",
     "text": [
      "Enter your query:  Himanshu OR number\n"
     ]
    },
    {
     "name": "stdout",
     "output_type": "stream",
     "text": [
      "{'lo.txt', 'Intro.txt'}\n"
     ]
    }
   ],
   "source": [
    "query = input(\"Enter your query: \")\n",
    "x = query.split()\n",
    "if x[1] =='AND':\n",
    "  print(andlogical(x[0],x[2]))\n",
    "elif x[1] =='OR':\n",
    "  print(orlogical(x[0],x[2]))\n",
    "if x[0] =='NOT':\n",
    "  print(notlogical(x[1]))"
   ]
  },
  {
   "cell_type": "code",
   "execution_count": null,
   "id": "acf79665-793b-46a1-9225-8c011dc78ecf",
   "metadata": {},
   "outputs": [],
   "source": []
  }
 ],
 "metadata": {
  "kernelspec": {
   "display_name": "Python 3 (ipykernel)",
   "language": "python",
   "name": "python3"
  },
  "language_info": {
   "codemirror_mode": {
    "name": "ipython",
    "version": 3
   },
   "file_extension": ".py",
   "mimetype": "text/x-python",
   "name": "python",
   "nbconvert_exporter": "python",
   "pygments_lexer": "ipython3",
   "version": "3.12.4"
  }
 },
 "nbformat": 4,
 "nbformat_minor": 5
}
