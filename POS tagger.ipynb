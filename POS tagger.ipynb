{
 "cells": [
  {
   "cell_type": "code",
   "execution_count": 1,
   "id": "be8460e2-fc83-422f-8030-d756107309c9",
   "metadata": {},
   "outputs": [
    {
     "name": "stdout",
     "output_type": "stream",
     "text": [
      "Collecting nltk\n",
      "  Downloading nltk-3.8.1-py3-none-any.whl.metadata (2.8 kB)\n",
      "Collecting click (from nltk)\n",
      "  Downloading click-8.1.7-py3-none-any.whl.metadata (3.0 kB)\n",
      "Collecting joblib (from nltk)\n",
      "  Downloading joblib-1.4.2-py3-none-any.whl.metadata (5.4 kB)\n",
      "Collecting regex>=2021.8.3 (from nltk)\n",
      "  Downloading regex-2024.5.15-cp312-cp312-win_amd64.whl.metadata (41 kB)\n",
      "     ---------------------------------------- 0.0/42.0 kB ? eta -:--:--\n",
      "     ----------------------------- ---------- 30.7/42.0 kB ? eta -:--:--\n",
      "     -------------------------------------  41.0/42.0 kB 326.8 kB/s eta 0:00:01\n",
      "     -------------------------------------- 42.0/42.0 kB 291.1 kB/s eta 0:00:00\n",
      "Collecting tqdm (from nltk)\n",
      "  Downloading tqdm-4.66.4-py3-none-any.whl.metadata (57 kB)\n",
      "     ---------------------------------------- 0.0/57.6 kB ? eta -:--:--\n",
      "     ------- -------------------------------- 10.2/57.6 kB ? eta -:--:--\n",
      "     ------- -------------------------------- 10.2/57.6 kB ? eta -:--:--\n",
      "     ------- -------------------------------- 10.2/57.6 kB ? eta -:--:--\n",
      "     -------------------- ----------------- 30.7/57.6 kB 145.2 kB/s eta 0:00:01\n",
      "     -------------------------------------- 57.6/57.6 kB 233.1 kB/s eta 0:00:00\n",
      "Requirement already satisfied: colorama in c:\\users\\himan\\appdata\\local\\programs\\python\\python312\\lib\\site-packages (from click->nltk) (0.4.6)\n",
      "Downloading nltk-3.8.1-py3-none-any.whl (1.5 MB)\n",
      "   ---------------------------------------- 0.0/1.5 MB ? eta -:--:--\n",
      "   ---------------------------------------- 0.0/1.5 MB ? eta -:--:--\n",
      "   ---------------------------------------- 0.0/1.5 MB ? eta -:--:--\n",
      "   ---------------------------------------- 0.0/1.5 MB ? eta -:--:--\n",
      "   - -------------------------------------- 0.1/1.5 MB 465.5 kB/s eta 0:00:04\n",
      "   -- ------------------------------------- 0.1/1.5 MB 573.4 kB/s eta 0:00:03\n",
      "   -- ------------------------------------- 0.1/1.5 MB 403.5 kB/s eta 0:00:04\n",
      "   --- ------------------------------------ 0.1/1.5 MB 423.5 kB/s eta 0:00:04\n",
      "   --- ------------------------------------ 0.1/1.5 MB 472.1 kB/s eta 0:00:03\n",
      "   ----- ---------------------------------- 0.2/1.5 MB 512.0 kB/s eta 0:00:03\n",
      "   ----- ---------------------------------- 0.2/1.5 MB 512.0 kB/s eta 0:00:03\n",
      "   ----- ---------------------------------- 0.2/1.5 MB 478.0 kB/s eta 0:00:03\n",
      "   ------- -------------------------------- 0.3/1.5 MB 512.0 kB/s eta 0:00:03\n",
      "   ------- -------------------------------- 0.3/1.5 MB 519.7 kB/s eta 0:00:03\n",
      "   ------- -------------------------------- 0.3/1.5 MB 519.7 kB/s eta 0:00:03\n",
      "   -------- ------------------------------- 0.3/1.5 MB 476.3 kB/s eta 0:00:03\n",
      "   --------- ------------------------------ 0.4/1.5 MB 498.5 kB/s eta 0:00:03\n",
      "   --------- ------------------------------ 0.4/1.5 MB 498.5 kB/s eta 0:00:03\n",
      "   ---------- ----------------------------- 0.4/1.5 MB 470.0 kB/s eta 0:00:03\n",
      "   ----------- ---------------------------- 0.5/1.5 MB 521.7 kB/s eta 0:00:03\n",
      "   ------------ --------------------------- 0.5/1.5 MB 496.8 kB/s eta 0:00:03\n",
      "   ------------- -------------------------- 0.5/1.5 MB 517.8 kB/s eta 0:00:02\n",
      "   ------------- -------------------------- 0.5/1.5 MB 517.8 kB/s eta 0:00:02\n",
      "   --------------- ------------------------ 0.6/1.5 MB 557.5 kB/s eta 0:00:02\n",
      "   ---------------- ----------------------- 0.6/1.5 MB 544.3 kB/s eta 0:00:02\n",
      "   ----------------- ---------------------- 0.6/1.5 MB 564.3 kB/s eta 0:00:02\n",
      "   ----------------- ---------------------- 0.6/1.5 MB 564.3 kB/s eta 0:00:02\n",
      "   ----------------- ---------------------- 0.7/1.5 MB 522.4 kB/s eta 0:00:02\n",
      "   ------------------- -------------------- 0.7/1.5 MB 559.1 kB/s eta 0:00:02\n",
      "   ------------------- -------------------- 0.7/1.5 MB 547.5 kB/s eta 0:00:02\n",
      "   -------------------- ------------------- 0.8/1.5 MB 559.5 kB/s eta 0:00:02\n",
      "   --------------------- ------------------ 0.8/1.5 MB 555.4 kB/s eta 0:00:02\n",
      "   ----------------------- ---------------- 0.9/1.5 MB 579.2 kB/s eta 0:00:02\n",
      "   ----------------------- ---------------- 0.9/1.5 MB 586.1 kB/s eta 0:00:02\n",
      "   ------------------------- -------------- 1.0/1.5 MB 597.0 kB/s eta 0:00:01\n",
      "   ------------------------- -------------- 1.0/1.5 MB 597.4 kB/s eta 0:00:01\n",
      "   -------------------------- ------------- 1.0/1.5 MB 592.8 kB/s eta 0:00:01\n",
      "   --------------------------- ------------ 1.0/1.5 MB 601.3 kB/s eta 0:00:01\n",
      "   ----------------------------- ---------- 1.1/1.5 MB 614.6 kB/s eta 0:00:01\n",
      "   ----------------------------- ---------- 1.1/1.5 MB 615.6 kB/s eta 0:00:01\n",
      "   ------------------------------ --------- 1.1/1.5 MB 616.4 kB/s eta 0:00:01\n",
      "   ------------------------------ --------- 1.2/1.5 MB 611.7 kB/s eta 0:00:01\n",
      "   ------------------------------ --------- 1.2/1.5 MB 611.7 kB/s eta 0:00:01\n",
      "   --------------------------------- ------ 1.3/1.5 MB 644.9 kB/s eta 0:00:01\n",
      "   --------------------------------- ------ 1.3/1.5 MB 644.9 kB/s eta 0:00:01\n",
      "   ---------------------------------- ----- 1.3/1.5 MB 620.5 kB/s eta 0:00:01\n",
      "   ----------------------------------- ---- 1.3/1.5 MB 621.6 kB/s eta 0:00:01\n",
      "   ------------------------------------- -- 1.4/1.5 MB 641.2 kB/s eta 0:00:01\n",
      "   ------------------------------------- -- 1.4/1.5 MB 646.1 kB/s eta 0:00:01\n",
      "   ---------------------------------------  1.5/1.5 MB 650.9 kB/s eta 0:00:01\n",
      "   ---------------------------------------- 1.5/1.5 MB 648.7 kB/s eta 0:00:00\n",
      "Downloading regex-2024.5.15-cp312-cp312-win_amd64.whl (268 kB)\n",
      "   ---------------------------------------- 0.0/268.5 kB ? eta -:--:--\n",
      "   ---------------------------------------- 0.0/268.5 kB ? eta -:--:--\n",
      "   ---------------- ----------------------- 112.6/268.5 kB 3.2 MB/s eta 0:00:01\n",
      "   --------------------- ------------------ 143.4/268.5 kB 1.7 MB/s eta 0:00:01\n",
      "   ---------------------------- ----------- 194.6/268.5 kB 1.7 MB/s eta 0:00:01\n",
      "   ------------------------------------ --- 245.8/268.5 kB 1.4 MB/s eta 0:00:01\n",
      "   ---------------------------------------  266.2/268.5 kB 1.3 MB/s eta 0:00:01\n",
      "   ---------------------------------------- 268.5/268.5 kB 1.1 MB/s eta 0:00:00\n",
      "Downloading click-8.1.7-py3-none-any.whl (97 kB)\n",
      "   ---------------------------------------- 0.0/97.9 kB ? eta -:--:--\n",
      "   ---------------- ----------------------- 41.0/97.9 kB 2.0 MB/s eta 0:00:01\n",
      "   ---------------------------------------- 97.9/97.9 kB 933.0 kB/s eta 0:00:00\n",
      "Downloading joblib-1.4.2-py3-none-any.whl (301 kB)\n",
      "   ---------------------------------------- 0.0/301.8 kB ? eta -:--:--\n",
      "   ------------------ --------------------- 143.4/301.8 kB ? eta -:--:--\n",
      "   ----------------------- ---------------- 174.1/301.8 kB 1.3 MB/s eta 0:00:01\n",
      "   ----------------------- ---------------- 174.1/301.8 kB 1.3 MB/s eta 0:00:01\n",
      "   ----------------------- ---------------- 174.1/301.8 kB 1.3 MB/s eta 0:00:01\n",
      "   ---------------------------------------  297.0/301.8 kB 1.1 MB/s eta 0:00:01\n",
      "   ---------------------------------------- 301.8/301.8 kB 1.0 MB/s eta 0:00:00\n",
      "Downloading tqdm-4.66.4-py3-none-any.whl (78 kB)\n",
      "   ---------------------------------------- 0.0/78.3 kB ? eta -:--:--\n",
      "   ------------------------------- -------- 61.4/78.3 kB ? eta -:--:--\n",
      "   ---------------------------------------- 78.3/78.3 kB 2.2 MB/s eta 0:00:00\n",
      "Installing collected packages: tqdm, regex, joblib, click, nltk\n",
      "Successfully installed click-8.1.7 joblib-1.4.2 nltk-3.8.1 regex-2024.5.15 tqdm-4.66.4\n",
      "Note: you may need to restart the kernel to use updated packages.\n"
     ]
    }
   ],
   "source": [
    "pip install nltk"
   ]
  },
  {
   "cell_type": "code",
   "execution_count": 2,
   "id": "904698b2-b573-4fd0-81e9-5a8c851ce2c9",
   "metadata": {},
   "outputs": [
    {
     "name": "stdout",
     "output_type": "stream",
     "text": [
      "showing info https://raw.githubusercontent.com/nltk/nltk_data/gh-pages/index.xml\n"
     ]
    },
    {
     "data": {
      "text/plain": [
       "True"
      ]
     },
     "execution_count": 2,
     "metadata": {},
     "output_type": "execute_result"
    }
   ],
   "source": [
    "import nltk\n",
    "nltk.download()"
   ]
  },
  {
   "cell_type": "code",
   "execution_count": 3,
   "id": "dc65dfb8-acd5-4825-89e0-236ccdec2a3b",
   "metadata": {},
   "outputs": [],
   "source": [
    "import nltk"
   ]
  },
  {
   "cell_type": "code",
   "execution_count": 6,
   "id": "5561a73a-e9e2-4da1-adc8-c793f2414161",
   "metadata": {},
   "outputs": [],
   "source": [
    "from nltk.corpus import stopwords\n",
    "from nltk.tokenize import word_tokenize, sent_tokenize"
   ]
  },
  {
   "cell_type": "code",
   "execution_count": 17,
   "id": "9610ff0a-b4a2-488f-b8cb-560fb6e9cad7",
   "metadata": {},
   "outputs": [],
   "source": [
    "stopw = set(stopwords.words('english'))"
   ]
  },
  {
   "cell_type": "code",
   "execution_count": 18,
   "id": "95cedcb8-0b26-4d76-8ff9-2e839d8f4d8c",
   "metadata": {},
   "outputs": [
    {
     "data": {
      "text/plain": [
       "{'a',\n",
       " 'about',\n",
       " 'above',\n",
       " 'after',\n",
       " 'again',\n",
       " 'against',\n",
       " 'ain',\n",
       " 'all',\n",
       " 'am',\n",
       " 'an',\n",
       " 'and',\n",
       " 'any',\n",
       " 'are',\n",
       " 'aren',\n",
       " \"aren't\",\n",
       " 'as',\n",
       " 'at',\n",
       " 'be',\n",
       " 'because',\n",
       " 'been',\n",
       " 'before',\n",
       " 'being',\n",
       " 'below',\n",
       " 'between',\n",
       " 'both',\n",
       " 'but',\n",
       " 'by',\n",
       " 'can',\n",
       " 'couldn',\n",
       " \"couldn't\",\n",
       " 'd',\n",
       " 'did',\n",
       " 'didn',\n",
       " \"didn't\",\n",
       " 'do',\n",
       " 'does',\n",
       " 'doesn',\n",
       " \"doesn't\",\n",
       " 'doing',\n",
       " 'don',\n",
       " \"don't\",\n",
       " 'down',\n",
       " 'during',\n",
       " 'each',\n",
       " 'few',\n",
       " 'for',\n",
       " 'from',\n",
       " 'further',\n",
       " 'had',\n",
       " 'hadn',\n",
       " \"hadn't\",\n",
       " 'has',\n",
       " 'hasn',\n",
       " \"hasn't\",\n",
       " 'have',\n",
       " 'haven',\n",
       " \"haven't\",\n",
       " 'having',\n",
       " 'he',\n",
       " 'her',\n",
       " 'here',\n",
       " 'hers',\n",
       " 'herself',\n",
       " 'him',\n",
       " 'himself',\n",
       " 'his',\n",
       " 'how',\n",
       " 'i',\n",
       " 'if',\n",
       " 'in',\n",
       " 'into',\n",
       " 'is',\n",
       " 'isn',\n",
       " \"isn't\",\n",
       " 'it',\n",
       " \"it's\",\n",
       " 'its',\n",
       " 'itself',\n",
       " 'just',\n",
       " 'll',\n",
       " 'm',\n",
       " 'ma',\n",
       " 'me',\n",
       " 'mightn',\n",
       " \"mightn't\",\n",
       " 'more',\n",
       " 'most',\n",
       " 'mustn',\n",
       " \"mustn't\",\n",
       " 'my',\n",
       " 'myself',\n",
       " 'needn',\n",
       " \"needn't\",\n",
       " 'no',\n",
       " 'nor',\n",
       " 'not',\n",
       " 'now',\n",
       " 'o',\n",
       " 'of',\n",
       " 'off',\n",
       " 'on',\n",
       " 'once',\n",
       " 'only',\n",
       " 'or',\n",
       " 'other',\n",
       " 'our',\n",
       " 'ours',\n",
       " 'ourselves',\n",
       " 'out',\n",
       " 'over',\n",
       " 'own',\n",
       " 're',\n",
       " 's',\n",
       " 'same',\n",
       " 'shan',\n",
       " \"shan't\",\n",
       " 'she',\n",
       " \"she's\",\n",
       " 'should',\n",
       " \"should've\",\n",
       " 'shouldn',\n",
       " \"shouldn't\",\n",
       " 'so',\n",
       " 'some',\n",
       " 'such',\n",
       " 't',\n",
       " 'than',\n",
       " 'that',\n",
       " \"that'll\",\n",
       " 'the',\n",
       " 'their',\n",
       " 'theirs',\n",
       " 'them',\n",
       " 'themselves',\n",
       " 'then',\n",
       " 'there',\n",
       " 'these',\n",
       " 'they',\n",
       " 'this',\n",
       " 'those',\n",
       " 'through',\n",
       " 'to',\n",
       " 'too',\n",
       " 'under',\n",
       " 'until',\n",
       " 'up',\n",
       " 've',\n",
       " 'very',\n",
       " 'was',\n",
       " 'wasn',\n",
       " \"wasn't\",\n",
       " 'we',\n",
       " 'were',\n",
       " 'weren',\n",
       " \"weren't\",\n",
       " 'what',\n",
       " 'when',\n",
       " 'where',\n",
       " 'which',\n",
       " 'while',\n",
       " 'who',\n",
       " 'whom',\n",
       " 'why',\n",
       " 'will',\n",
       " 'with',\n",
       " 'won',\n",
       " \"won't\",\n",
       " 'wouldn',\n",
       " \"wouldn't\",\n",
       " 'y',\n",
       " 'you',\n",
       " \"you'd\",\n",
       " \"you'll\",\n",
       " \"you're\",\n",
       " \"you've\",\n",
       " 'your',\n",
       " 'yours',\n",
       " 'yourself',\n",
       " 'yourselves'}"
      ]
     },
     "execution_count": 18,
     "metadata": {},
     "output_type": "execute_result"
    }
   ],
   "source": [
    "stopw"
   ]
  },
  {
   "cell_type": "code",
   "execution_count": 1,
   "id": "435285c0-5e8e-4381-a696-fc612c074652",
   "metadata": {},
   "outputs": [
    {
     "name": "stderr",
     "output_type": "stream",
     "text": [
      "[nltk_data] Downloading package punkt to\n",
      "[nltk_data]     C:\\Users\\himan\\AppData\\Roaming\\nltk_data...\n",
      "[nltk_data]   Package punkt is already up-to-date!\n"
     ]
    },
    {
     "data": {
      "text/plain": [
       "True"
      ]
     },
     "execution_count": 1,
     "metadata": {},
     "output_type": "execute_result"
    }
   ],
   "source": [
    "import nltk\n",
    "nltk.download('punkt')  # Download the necessary resources for tokenization\n",
    "#nltk.download('averaged_perceptron_tagger')  # Download the averaged perceptron tagger model"
   ]
  },
  {
   "cell_type": "code",
   "execution_count": 7,
   "id": "b857efb1-6e91-4871-b11f-7a0c315d2524",
   "metadata": {},
   "outputs": [],
   "source": [
    "# Sample text for POS tagging\n",
    "text = \"NLTK is a leading platform for building Python programs to work with human language data. My name is Himanshu Singh. I study Text Mining as my elective sentences.\" "
   ]
  },
  {
   "cell_type": "code",
   "execution_count": 12,
   "id": "1227c9fa-6306-40c2-a2b0-e26efcc941e6",
   "metadata": {},
   "outputs": [],
   "source": [
    "# Tokenize the text into words\n",
    "words = nltk.word_tokenize(text)"
   ]
  },
  {
   "cell_type": "code",
   "execution_count": 13,
   "id": "48faeb0b-5417-4ebe-ad87-9429e97bf2ca",
   "metadata": {},
   "outputs": [
    {
     "data": {
      "text/plain": [
       "['NLTK',\n",
       " 'is',\n",
       " 'a',\n",
       " 'leading',\n",
       " 'platform',\n",
       " 'for',\n",
       " 'building',\n",
       " 'Python',\n",
       " 'programs',\n",
       " 'to',\n",
       " 'work',\n",
       " 'with',\n",
       " 'human',\n",
       " 'language',\n",
       " 'data',\n",
       " '.',\n",
       " 'My',\n",
       " 'name',\n",
       " 'is',\n",
       " 'Himanshu',\n",
       " 'Singh',\n",
       " '.',\n",
       " 'I',\n",
       " 'study',\n",
       " 'Text',\n",
       " 'Mining',\n",
       " 'as',\n",
       " 'my',\n",
       " 'elective',\n",
       " 'sentences',\n",
       " '.']"
      ]
     },
     "execution_count": 13,
     "metadata": {},
     "output_type": "execute_result"
    }
   ],
   "source": [
    "words"
   ]
  },
  {
   "cell_type": "code",
   "execution_count": 19,
   "id": "e1e6782b-8afd-475b-a167-a5dbb3604e93",
   "metadata": {},
   "outputs": [],
   "source": [
    "filw = []\n",
    "for w in words:\n",
    "    if w not in stopw:\n",
    "        filw.append(w)        "
   ]
  },
  {
   "cell_type": "code",
   "execution_count": 23,
   "id": "710b3636-20b2-4a91-a15e-045704835e41",
   "metadata": {},
   "outputs": [
    {
     "data": {
      "text/plain": [
       "(31, 23)"
      ]
     },
     "execution_count": 23,
     "metadata": {},
     "output_type": "execute_result"
    }
   ],
   "source": [
    "len(words), len(filw)"
   ]
  },
  {
   "cell_type": "code",
   "execution_count": 24,
   "id": "4094ac9d-fc99-49b1-bad1-48b9e91f6b61",
   "metadata": {},
   "outputs": [],
   "source": [
    "# Perform POS tagging\n",
    "pos_tags = nltk.pos_tag(filw)"
   ]
  },
  {
   "cell_type": "code",
   "execution_count": 25,
   "id": "430b5a9a-0bd6-4b01-ac5d-aca8e3ef83e7",
   "metadata": {},
   "outputs": [
    {
     "name": "stdout",
     "output_type": "stream",
     "text": [
      "[('NLTK', 'NNP'), ('leading', 'VBG'), ('platform', 'NN'), ('building', 'NN'), ('Python', 'NNP'), ('programs', 'NNS'), ('work', 'VBP'), ('human', 'JJ'), ('language', 'NN'), ('data', 'NNS'), ('.', '.'), ('My', 'PRP$'), ('name', 'NN'), ('Himanshu', 'NNP'), ('Singh', 'NNP'), ('.', '.'), ('I', 'PRP'), ('study', 'VBP'), ('Text', 'NNP'), ('Mining', 'NNP'), ('elective', 'JJ'), ('sentences', 'NNS'), ('.', '.')]\n"
     ]
    }
   ],
   "source": [
    "print(pos_tags)"
   ]
  },
  {
   "cell_type": "code",
   "execution_count": null,
   "id": "4a406889-e6d7-4f15-94e2-55005e5cdbed",
   "metadata": {},
   "outputs": [],
   "source": []
  }
 ],
 "metadata": {
  "kernelspec": {
   "display_name": "Python 3 (ipykernel)",
   "language": "python",
   "name": "python3"
  },
  "language_info": {
   "codemirror_mode": {
    "name": "ipython",
    "version": 3
   },
   "file_extension": ".py",
   "mimetype": "text/x-python",
   "name": "python",
   "nbconvert_exporter": "python",
   "pygments_lexer": "ipython3",
   "version": "3.12.4"
  }
 },
 "nbformat": 4,
 "nbformat_minor": 5
}
