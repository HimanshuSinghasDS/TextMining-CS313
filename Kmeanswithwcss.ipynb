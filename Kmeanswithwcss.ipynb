{
  "nbformat": 4,
  "nbformat_minor": 0,
  "metadata": {
    "colab": {
      "provenance": []
    },
    "kernelspec": {
      "name": "python3",
      "display_name": "Python 3"
    },
    "language_info": {
      "name": "python"
    }
  },
  "cells": [
    {
      "cell_type": "code",
      "execution_count": null,
      "metadata": {
        "id": "ktVQ3errFJys"
      },
      "outputs": [],
      "source": [
        "import numpy as np\n",
        "import pandas as pd"
      ]
    },
    {
      "cell_type": "code",
      "source": [
        "document = [\"This is the most beautiful place in the world.\", \"This man has more skills to show in cricket than any other game.\", \"Hi there! how was your ladakh trip last month?\", \"There was a player who had scored 200+ runs in single cricket innings in his career.\", \"I have got the opportunity to travel to Paris next year for my internship.\", \"May be he is better than you in batting but you are much better than him in bowling.\", \"That was really a great day for me when I was there at Lavasa for the whole night.\", \"That's exactly I wanted to become, a highest ratting batsmen ever with top scores.\", \"Does it really matter wether you go to Thailand or Goa, its just you have spend your holidays.\", \"Why don't you go to Switzerland next year for your 25th Wedding anniversary?\", \"Travel is fatal to prejudice, bigotry, and narrow mindedness., and many of our people need it sorely on these accounts.\", \"Stop worrying about the potholes in the road and enjoy the journey.\", \"No cricket team in the world depends on one or two players. The team always plays to win.\", \"Cricket is a team game. If you want fame for yourself, go play an individual game.\", \"Because in the end, you won't remember the time you spent working in the office or mowing your lawn. Climb that goddamn mountain.\", \"Isn't cricket supposed to be a team sport? I feel people should decide first whether cricket is a team game or an individual sport.\"]"
      ],
      "metadata": {
        "id": "yJZr5phceTCl"
      },
      "execution_count": null,
      "outputs": []
    },
    {
      "cell_type": "code",
      "source": [
        "document"
      ],
      "metadata": {
        "colab": {
          "base_uri": "https://localhost:8080/"
        },
        "id": "DSd0VZtpeVSk",
        "outputId": "8b45d90d-7324-42fd-9cfc-a85c3d4f68fa"
      },
      "execution_count": null,
      "outputs": [
        {
          "output_type": "execute_result",
          "data": {
            "text/plain": [
              "['This is the most beautiful place in the world.',\n",
              " 'This man has more skills to show in cricket than any other game.',\n",
              " 'Hi there! how was your ladakh trip last month?',\n",
              " 'There was a player who had scored 200+ runs in single cricket innings in his career.',\n",
              " 'I have got the opportunity to travel to Paris next year for my internship.',\n",
              " 'May be he is better than you in batting but you are much better than him in bowling.',\n",
              " 'That was really a great day for me when I was there at Lavasa for the whole night.',\n",
              " \"That's exactly I wanted to become, a highest ratting batsmen ever with top scores.\",\n",
              " 'Does it really matter wether you go to Thailand or Goa, its just you have spend your holidays.',\n",
              " \"Why don't you go to Switzerland next year for your 25th Wedding anniversary?\",\n",
              " 'Travel is fatal to prejudice, bigotry, and narrow mindedness., and many of our people need it sorely on these accounts.',\n",
              " 'Stop worrying about the potholes in the road and enjoy the journey.',\n",
              " 'No cricket team in the world depends on one or two players. The team always plays to win.',\n",
              " 'Cricket is a team game. If you want fame for yourself, go play an individual game.',\n",
              " \"Because in the end, you won't remember the time you spent working in the office or mowing your lawn. Climb that goddamn mountain.\",\n",
              " \"Isn't cricket supposed to be a team sport? I feel people should decide first whether cricket is a team game or an individual sport.\"]"
            ]
          },
          "metadata": {},
          "execution_count": 117
        }
      ]
    },
    {
      "cell_type": "code",
      "source": [
        "from sklearn.feature_extraction.text import TfidfVectorizer"
      ],
      "metadata": {
        "id": "lcO-MQAoeXM-"
      },
      "execution_count": null,
      "outputs": []
    },
    {
      "cell_type": "code",
      "source": [
        "vectorizer = TfidfVectorizer(stop_words='english')\n",
        "X = vectorizer.fit_transform(document)"
      ],
      "metadata": {
        "id": "uCIHN574ehTp"
      },
      "execution_count": null,
      "outputs": []
    },
    {
      "cell_type": "code",
      "source": [
        "X"
      ],
      "metadata": {
        "colab": {
          "base_uri": "https://localhost:8080/"
        },
        "id": "04-2EWvTfMSb",
        "outputId": "a6dd39c7-00e6-4dc5-f815-4b97b57e312e"
      },
      "execution_count": null,
      "outputs": [
        {
          "output_type": "execute_result",
          "data": {
            "text/plain": [
              "<16x92 sparse matrix of type '<class 'numpy.float64'>'\n",
              "\twith 106 stored elements in Compressed Sparse Row format>"
            ]
          },
          "metadata": {},
          "execution_count": 120
        }
      ]
    },
    {
      "cell_type": "code",
      "source": [
        "print(X)"
      ],
      "metadata": {
        "colab": {
          "base_uri": "https://localhost:8080/"
        },
        "id": "0DOY8XBPelbE",
        "outputId": "ee42b846-a568-4b84-bd7d-0b12aaf5e9d8"
      },
      "execution_count": null,
      "outputs": [
        {
          "output_type": "stream",
          "name": "stdout",
          "text": [
            "  (0, 89)\t0.5243543822136046\n",
            "  (0, 54)\t0.6021015204487483\n",
            "  (0, 6)\t0.6021015204487483\n",
            "  (1, 24)\t0.44767804583354776\n",
            "  (1, 12)\t0.3734958483364618\n",
            "  (1, 69)\t0.5744933500720799\n",
            "  (1, 41)\t0.5744933500720799\n",
            "  (2, 44)\t0.5\n",
            "  (2, 81)\t0.5\n",
            "  (2, 38)\t0.5\n",
            "  (2, 29)\t0.5\n",
            "  (3, 10)\t0.36704551360793053\n",
            "  (3, 33)\t0.36704551360793053\n",
            "  (3, 68)\t0.36704551360793053\n",
            "  (3, 65)\t0.36704551360793053\n",
            "  (3, 0)\t0.36704551360793053\n",
            "  (3, 66)\t0.36704551360793053\n",
            "  (3, 56)\t0.36704551360793053\n",
            "  (3, 12)\t0.23862761068667918\n",
            "  (4, 34)\t0.4257500680720407\n",
            "  (4, 91)\t0.37077453940812266\n",
            "  (4, 52)\t0.4257500680720407\n",
            "  (4, 80)\t0.37077453940812266\n",
            "  (4, 51)\t0.4257500680720407\n",
            "  (4, 27)\t0.4257500680720407\n",
            "  :\t:\n",
            "  (13, 77)\t0.290063728017694\n",
            "  (13, 24)\t0.580127456035388\n",
            "  (13, 12)\t0.2419989078666739\n",
            "  (14, 45)\t0.28867513459481287\n",
            "  (14, 26)\t0.28867513459481287\n",
            "  (14, 11)\t0.28867513459481287\n",
            "  (14, 40)\t0.28867513459481287\n",
            "  (14, 46)\t0.28867513459481287\n",
            "  (14, 50)\t0.28867513459481287\n",
            "  (14, 88)\t0.28867513459481287\n",
            "  (14, 72)\t0.28867513459481287\n",
            "  (14, 79)\t0.28867513459481287\n",
            "  (14, 63)\t0.28867513459481287\n",
            "  (14, 87)\t0.28867513459481287\n",
            "  (14, 18)\t0.28867513459481287\n",
            "  (15, 14)\t0.2649647611575057\n",
            "  (15, 23)\t0.2649647611575057\n",
            "  (15, 73)\t0.5299295223150114\n",
            "  (15, 75)\t0.2649647611575057\n",
            "  (15, 35)\t0.2649647611575057\n",
            "  (15, 32)\t0.23075084338197677\n",
            "  (15, 77)\t0.41295136479773753\n",
            "  (15, 53)\t0.23075084338197677\n",
            "  (15, 24)\t0.20647568239886877\n",
            "  (15, 12)\t0.34452352924667967\n"
          ]
        }
      ]
    },
    {
      "cell_type": "code",
      "source": [
        "print(X.toarray())"
      ],
      "metadata": {
        "colab": {
          "base_uri": "https://localhost:8080/"
        },
        "id": "E0oAkczMemxt",
        "outputId": "6810a4de-3717-461f-ff0a-e00aac33b19b"
      },
      "execution_count": null,
      "outputs": [
        {
          "output_type": "stream",
          "name": "stdout",
          "text": [
            "[[0.         0.         0.         ... 0.52435438 0.         0.        ]\n",
            " [0.         0.         0.         ... 0.         0.         0.        ]\n",
            " [0.         0.         0.         ... 0.         0.         0.        ]\n",
            " ...\n",
            " [0.         0.         0.         ... 0.         0.         0.        ]\n",
            " [0.         0.         0.         ... 0.         0.         0.        ]\n",
            " [0.         0.         0.         ... 0.         0.         0.        ]]\n"
          ]
        }
      ]
    },
    {
      "cell_type": "code",
      "source": [
        "from sklearn.cluster import KMeans"
      ],
      "metadata": {
        "id": "PF3t0URCfq8o"
      },
      "execution_count": null,
      "outputs": []
    },
    {
      "cell_type": "markdown",
      "source": [
        "\n",
        "Finding the value to 'k'"
      ],
      "metadata": {
        "id": "chcMjqgX4MnO"
      }
    },
    {
      "cell_type": "code",
      "source": [
        "wcss = []\n",
        "\n",
        "for i in range(1,11):\n",
        "    km = KMeans(n_clusters=i)#may be used with init, max_iter etc.\n",
        "    km.fit_predict(X)\n",
        "    wcss.append(km.inertia_)#WithinClusterSumSquare and same as RSS"
      ],
      "metadata": {
        "colab": {
          "base_uri": "https://localhost:8080/"
        },
        "id": "kUXgyjI2fbZg",
        "outputId": "3c33b728-1763-48f2-cdf5-2bf519ef17c0"
      },
      "execution_count": null,
      "outputs": [
        {
          "output_type": "stream",
          "name": "stderr",
          "text": [
            "/usr/local/lib/python3.10/dist-packages/sklearn/cluster/_kmeans.py:870: FutureWarning: The default value of `n_init` will change from 10 to 'auto' in 1.4. Set the value of `n_init` explicitly to suppress the warning\n",
            "  warnings.warn(\n"
          ]
        }
      ]
    },
    {
      "cell_type": "code",
      "source": [
        "wcss"
      ],
      "metadata": {
        "colab": {
          "base_uri": "https://localhost:8080/"
        },
        "id": "ncMJI6W8fvyk",
        "outputId": "ff732352-5142-40d8-ed95-5774f88a345d"
      },
      "execution_count": null,
      "outputs": [
        {
          "output_type": "execute_result",
          "data": {
            "text/plain": [
              "[14.6918649870554,\n",
              " 13.184065041872746,\n",
              " 12.060065509035613,\n",
              " 11.01495809073933,\n",
              " 9.936460646780278,\n",
              " 8.926847669330716,\n",
              " 7.911534285197787,\n",
              " 6.926847669330715,\n",
              " 5.911534285197787,\n",
              " 4.911534285197787]"
            ]
          },
          "metadata": {},
          "execution_count": 125
        }
      ]
    },
    {
      "cell_type": "code",
      "source": [
        "import matplotlib.pyplot as plt"
      ],
      "metadata": {
        "id": "OJw6i4omfwp3"
      },
      "execution_count": null,
      "outputs": []
    },
    {
      "cell_type": "code",
      "source": [
        "plt.plot(range(1,11),wcss)"
      ],
      "metadata": {
        "colab": {
          "base_uri": "https://localhost:8080/",
          "height": 447
        },
        "id": "io_HvHmvf9an",
        "outputId": "2b513d96-8321-4753-b350-b4139d13c24a"
      },
      "execution_count": null,
      "outputs": [
        {
          "output_type": "execute_result",
          "data": {
            "text/plain": [
              "[<matplotlib.lines.Line2D at 0x783343122380>]"
            ]
          },
          "metadata": {},
          "execution_count": 127
        },
        {
          "output_type": "display_data",
          "data": {
            "text/plain": [
              "<Figure size 640x480 with 1 Axes>"
            ],
            "image/png": "[encoded data removed]"
          },
          "metadata": {}
        }
      ]
    },
    {
      "cell_type": "code",
      "source": [
        "km = KMeans(n_clusters=2)\n",
        "y_means = km.fit_predict(X)"
      ],
      "metadata": {
        "id": "5A2njIJXgnBm"
      },
      "execution_count": null,
      "outputs": []
    },
    {
      "cell_type": "code",
      "source": [
        "y_means"
      ],
      "metadata": {
        "colab": {
          "base_uri": "https://localhost:8080/"
        },
        "id": "lvNaR59Tsm9v",
        "outputId": "3ab20515-a597-4491-b1b6-629e6b0826c1"
      },
      "execution_count": null,
      "outputs": [
        {
          "output_type": "execute_result",
          "data": {
            "text/plain": [
              "array([0, 1, 0, 1, 0, 0, 0, 0, 0, 0, 0, 0, 1, 1, 0, 1], dtype=int32)"
            ]
          },
          "metadata": {},
          "execution_count": 129
        }
      ]
    },
    {
      "cell_type": "code",
      "source": [
        "#labeln = [1,0,1,0,1,0,1,0,1,1,1,1,0,0,1,0] and 1 is travel 0 is cricket"
      ],
      "metadata": {
        "id": "4pzipYMV9kEp"
      },
      "execution_count": null,
      "outputs": []
    },
    {
      "cell_type": "code",
      "source": [
        "print(\"Prediction\")\n",
        "X = vectorizer.transform([\"Nothing is easy in cricket. Maybe when you watch it on TV, it looks easy. But it is not. You have to use your brain and time the ball.\"])\n",
        "predicted = km.predict(X)\n",
        "print(predicted)"
      ],
      "metadata": {
        "colab": {
          "base_uri": "https://localhost:8080/"
        },
        "id": "i99DqUk76l5v",
        "outputId": "13302f7a-e1b5-4ce0-8266-8ff9d7c12dad"
      },
      "execution_count": null,
      "outputs": [
        {
          "output_type": "stream",
          "name": "stdout",
          "text": [
            "Prediction\n",
            "[1]\n"
          ]
        }
      ]
    },
    {
      "cell_type": "markdown",
      "source": [
        "To find the words in clusters\n"
      ],
      "metadata": {
        "id": "C7V9HEE_4dB7"
      }
    },
    {
      "cell_type": "code",
      "source": [
        "terms"
      ],
      "metadata": {
        "colab": {
          "base_uri": "https://localhost:8080/"
        },
        "id": "xARD4gTzxtGn",
        "outputId": "da1ef636-108a-4f1c-c2f9-b6e200495da4"
      },
      "execution_count": null,
      "outputs": [
        {
          "output_type": "execute_result",
          "data": {
            "text/plain": [
              "array(['200', '25th', 'accounts', 'anniversary', 'batsmen', 'batting',\n",
              "       'beautiful', 'better', 'bigotry', 'bowling', 'career', 'climb',\n",
              "       'cricket', 'day', 'decide', 'depends', 'does', 'don', 'end',\n",
              "       'enjoy', 'exactly', 'fame', 'fatal', 'feel', 'game', 'goa',\n",
              "       'goddamn', 'got', 'great', 'hi', 'highest', 'holidays',\n",
              "       'individual', 'innings', 'internship', 'isn', 'journey', 'just',\n",
              "       'ladakh', 'lavasa', 'lawn', 'man', 'matter', 'mindedness', 'month',\n",
              "       'mountain', 'mowing', 'narrow', 'need', 'night', 'office',\n",
              "       'opportunity', 'paris', 'people', 'place', 'play', 'player',\n",
              "       'players', 'plays', 'potholes', 'prejudice', 'ratting', 'really',\n",
              "       'remember', 'road', 'runs', 'scored', 'scores', 'single', 'skills',\n",
              "       'sorely', 'spend', 'spent', 'sport', 'stop', 'supposed',\n",
              "       'switzerland', 'team', 'thailand', 'time', 'travel', 'trip',\n",
              "       'want', 'wanted', 'wedding', 'wether', 'win', 'won', 'working',\n",
              "       'world', 'worrying', 'year'], dtype=object)"
            ]
          },
          "metadata": {},
          "execution_count": 132
        }
      ]
    },
    {
      "cell_type": "code",
      "source": [
        "order = km.cluster_centers_.argsort()[:, ::-1]"
      ],
      "metadata": {
        "id": "BwCMLj2GyIJf"
      },
      "execution_count": null,
      "outputs": []
    },
    {
      "cell_type": "code",
      "source": [
        "order"
      ],
      "metadata": {
        "colab": {
          "base_uri": "https://localhost:8080/"
        },
        "id": "2t7DIGhIxvXi",
        "outputId": "8e7044b6-488e-4693-e3a0-c987302a7631"
      },
      "execution_count": null,
      "outputs": [
        {
          "output_type": "execute_result",
          "data": {
            "text/plain": [
              "array([[ 7, 91, 62, 80, 54,  6, 89, 81, 29, 38, 44, 39, 13, 28, 49, 34,\n",
              "        27, 51, 52, 84, 76,  1,  3, 17, 61, 36, 20, 19, 59, 90, 30, 74,\n",
              "        83, 64,  4, 67,  5,  9, 37, 42, 31, 25, 16, 71, 78, 85, 48, 47,\n",
              "        22, 60, 43, 70,  8,  2, 26, 11, 18, 45, 88, 40, 87, 46, 50, 79,\n",
              "        63, 72, 53, 33, 73, 69, 10, 82, 75, 77, 68, 86, 12, 66, 14, 15,\n",
              "        32, 65, 58, 57, 21, 56, 23, 24, 55, 41, 35,  0],\n",
              "       [12, 77, 24, 41, 69, 32, 73, 21, 82, 55, 65, 66, 68, 10,  0, 56,\n",
              "        33, 57, 58, 15, 86, 89, 14, 75, 35, 23, 53, 31, 26, 30, 34, 25,\n",
              "        22, 29, 27, 28, 16, 20,  7,  1,  2,  3,  4,  5,  6,  8, 19,  9,\n",
              "        11, 13, 37, 17, 18, 36, 91, 38, 63, 67, 70, 71, 72, 74, 76, 78,\n",
              "        79, 80, 81, 83, 84, 85, 87, 88, 64, 62, 39, 61, 40, 42, 43, 44,\n",
              "        90, 46, 47, 48, 49, 50, 51, 52, 54, 59, 60, 45]])"
            ]
          },
          "metadata": {},
          "execution_count": 134
        }
      ]
    },
    {
      "cell_type": "code",
      "source": [
        "terms[80]"
      ],
      "metadata": {
        "colab": {
          "base_uri": "https://localhost:8080/",
          "height": 35
        },
        "id": "BifN9YbZxyI4",
        "outputId": "7df0aaff-4e41-4f1d-b50b-2a2baaf26366"
      },
      "execution_count": null,
      "outputs": [
        {
          "output_type": "execute_result",
          "data": {
            "text/plain": [
              "'travel'"
            ],
            "application/vnd.google.colaboratory.intrinsic+json": {
              "type": "string"
            }
          },
          "metadata": {},
          "execution_count": 136
        }
      ]
    },
    {
      "cell_type": "code",
      "source": [
        "for i in range(2):\n",
        "  print(\"Cluster %d:\" % i)\n",
        "  for ind in order[i, :10]:\n",
        "    print('%s ' % terms[ind])"
      ],
      "metadata": {
        "colab": {
          "base_uri": "https://localhost:8080/"
        },
        "id": "AoewiZb4x25m",
        "outputId": "345d3e1f-5981-4f5f-d4a9-5b418a93dfca"
      },
      "execution_count": null,
      "outputs": [
        {
          "output_type": "stream",
          "name": "stdout",
          "text": [
            "Cluster 0:\n",
            "better \n",
            "year \n",
            "really \n",
            "travel \n",
            "place \n",
            "beautiful \n",
            "world \n",
            "trip \n",
            "hi \n",
            "ladakh \n",
            "Cluster 1:\n",
            "cricket \n",
            "team \n",
            "game \n",
            "man \n",
            "skills \n",
            "individual \n",
            "sport \n",
            "fame \n",
            "want \n",
            "play \n"
          ]
        }
      ]
    }
  ]
}